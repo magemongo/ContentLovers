{
  "nbformat": 4,
  "nbformat_minor": 0,
  "metadata": {
    "colab": {
      "name": "Scrapping Publisher",
      "provenance": [],
      "collapsed_sections": [
        "vocGoHrzf7bo",
        "sKRfp1ykc5Wy",
        "y5lOxqrSgF4l",
        "2B4rpAOpP7tx"
      ],
      "authorship_tag": "ABX9TyP1+9/BudvoXd9ppz9zPqG9",
      "include_colab_link": true
    },
    "kernelspec": {
      "name": "python3",
      "display_name": "Python 3"
    }
  },
  "cells": [
    {
      "cell_type": "markdown",
      "metadata": {
        "id": "view-in-github",
        "colab_type": "text"
      },
      "source": [
        "<a href=\"https://colab.research.google.com/github/magemongo/ContentLovers/blob/master/Scrapping_Publisher.ipynb\" target=\"_parent\"><img src=\"https://colab.research.google.com/assets/colab-badge.svg\" alt=\"Open In Colab\"/></a>"
      ]
    },
    {
      "cell_type": "markdown",
      "metadata": {
        "id": "vocGoHrzf7bo",
        "colab_type": "text"
      },
      "source": [
        "# **Links do portal GuiadeMidia.com**\n"
      ]
    },
    {
      "cell_type": "code",
      "metadata": {
        "id": "50BQjX0_Dwq1",
        "colab_type": "code",
        "colab": {
          "base_uri": "https://localhost:8080/"
        },
        "outputId": "7f29d66c-6831-419a-de82-1efeb93f006f"
      },
      "source": [
        "import pandas as pd\n",
        "import numpy as np\n",
        "import matplotlib.pyplot as plt\n",
        "import seaborn as sns\n",
        "%matplotlib inline\n",
        "from urllib.request import urlopen\n",
        "from bs4 import BeautifulSoup"
      ],
      "execution_count": null,
      "outputs": [
        {
          "output_type": "stream",
          "text": [
            "/usr/local/lib/python3.6/dist-packages/statsmodels/tools/_testing.py:19: FutureWarning: pandas.util.testing is deprecated. Use the functions in the public API at pandas.testing instead.\n",
            "  import pandas.util.testing as tm\n"
          ],
          "name": "stderr"
        }
      ]
    },
    {
      "cell_type": "code",
      "metadata": {
        "id": "uMhdiUeVEsm0",
        "colab_type": "code",
        "colab": {
          "base_uri": "https://localhost:8080/"
        },
        "outputId": "2f956ce4-3fd5-46e9-dc25-f827103fac40"
      },
      "source": [
        "from urllib.request import Request, urlopen\n",
        "\n",
        "req = Request('https://www.guiademidia.com.br/jornais.htm', headers={'User-Agent': 'Mozilla/5.0'})\n",
        "webpage = urlopen(req).read()\n",
        "soup = BeautifulSoup(webpage, 'lxml')\n",
        "type(soup)"
      ],
      "execution_count": null,
      "outputs": [
        {
          "output_type": "execute_result",
          "data": {
            "text/plain": [
              "bs4.BeautifulSoup"
            ]
          },
          "metadata": {
            "tags": []
          },
          "execution_count": 2
        }
      ]
    },
    {
      "cell_type": "code",
      "metadata": {
        "id": "JrwaxYJLOB2x",
        "colab_type": "code",
        "colab": {}
      },
      "source": [
        "As = soup.find_all('a')"
      ],
      "execution_count": null,
      "outputs": []
    },
    {
      "cell_type": "code",
      "metadata": {
        "id": "svfNDR7hF5Ej",
        "colab_type": "code",
        "colab": {
          "base_uri": "https://localhost:8080/"
        },
        "outputId": "6f9752e1-1c41-4379-b9f2-f7b346a999f1"
      },
      "source": [
        "As"
      ],
      "execution_count": null,
      "outputs": [
        {
          "output_type": "execute_result",
          "data": {
            "text/plain": [
              "[<a href=\"https://www.guiademidia.com.br\"> <img alt=\"Logo Site Guia de Mídia\" src=\"imagens/logo/v7/logo-guia-de-midia-120x72.png\"/></a>,\n",
              " <a class=\"letra-cor3\" href=\"https://www.guiademidia.com.br\">home</a>,\n",
              " <a class=\"vermelhao\" href=\"https://www.guiademidia.com.br/jornaisdesaopaulo.htm\">Jornais de SP</a>,\n",
              " <a class=\"letra-cor6\" href=\"https://www.guiademidia.com.br/jornaisdoriodejaneiro.htm\">Jornais do Rio</a>,\n",
              " <a href=\"https://www.guiademidia.com.br/jornaisdoacre.htm\" title=\"Jornais Acreanos\">Jornais do Acre</a>,\n",
              " <a href=\"https://www.guiademidia.com.br/acre/jornais-de-rio-branco.htm\" title=\"Jornais de Rio Branco AC\">Rio Branco</a>,\n",
              " <a href=\"https://www.guiademidia.com.br/jornaisdealagoas.htm\" title=\"Jornais Alagoanos\">Jornais de Alagoas</a>,\n",
              " <a href=\"https://www.guiademidia.com.br/alagoas/jornais-de-maceio.htm\" title=\"Jornais de Maceió AL\">Maceió</a>,\n",
              " <a href=\"https://www.guiademidia.com.br/jornaisdoamapa.htm\" title=\"Jornais Amapaenses\">Jornais do Amapá</a>,\n",
              " <a href=\"https://www.guiademidia.com.br/amapa/jornais-de-macapa.htm\" title=\"Jornais de Macapá AP\">Macapá</a>,\n",
              " <a href=\"https://www.guiademidia.com.br/jornaisdoamazonas.htm\" title=\"Jornais Amazonenses\">Jornais do Amazonas</a>,\n",
              " <a href=\"https://www.guiademidia.com.br/amazonas/jornais-de-manaus.htm\" title=\"Jornais de Manaus AM\">Manaus</a>,\n",
              " <a href=\"https://www.guiademidia.com.br/jornaisdabahia.htm\" title=\"Jornais Baiano\">Jornais da Bahia</a>,\n",
              " <a href=\"https://www.guiademidia.com.br/bahia/jornais-de-salvador.htm\" title=\"Jornais de Salvador BA\">Salvador</a>,\n",
              " <a href=\"https://www.guiademidia.com.br/jornaisdoceara.htm\" title=\"Jornais Cearenses\">Jornais do Ceará</a>,\n",
              " <a href=\"https://www.guiademidia.com.br/ceara/jornais-de-fortaleza.htm\" title=\"Jornais de Fortaleza CE\">Fortaleza</a>,\n",
              " <a href=\"https://www.guiademidia.com.br/jornaisdodistritofederal.htm\" title=\"Jornais do Distrito Federal\">Jornais do Distrito Federal</a>,\n",
              " <a href=\"https://www.guiademidia.com.br/distrito-federal/jornais-de-brasilia.htm\" title=\"Jornais de Brasília DF\">Brasília</a>,\n",
              " <a href=\"https://www.guiademidia.com.br/jornaisdoespiritosanto.htm\" title=\"Jornais Capixabas\">Jornais do Espírito Santo</a>,\n",
              " <a href=\"https://www.guiademidia.com.br/espirito-santo/jornais-de-vitoria.htm\" title=\"Jornais de Vitória ES\">Vitória</a>,\n",
              " <a href=\"https://www.guiademidia.com.br/jornaisdegoias.htm\" title=\"Jornais Goianos\">Jornais de Goiás</a>,\n",
              " <a href=\"https://www.guiademidia.com.br/goias/jornais-de-goiania.htm\" title=\"Jornais de Goiânia GO\">Goiânia</a>,\n",
              " <a href=\"https://www.guiademidia.com.br/jornaisdomaranhao.htm\" title=\"Jornais Maranhenses\">Jornais do Maranhão</a>,\n",
              " <a href=\"https://www.guiademidia.com.br/maranhao/jornais-de-sao-luis.htm\">São Luís</a>,\n",
              " <a href=\"https://www.guiademidia.com.br/jornaisdomatogrosso.htm\" title=\"Jornais Matogrossenses\">Jornais do Mato Grosso</a>,\n",
              " <a href=\"https://www.guiademidia.com.br/mato-grosso/jornais-de-cuiaba.htm\" title=\"Jornais de Cuiabá MT\">Cuiabá</a>,\n",
              " <a href=\"https://www.guiademidia.com.br/jornaisdomatogrossodosul.htm\" title=\"Jornais do Mato Grosso do Sul\">Jornais Mato Grosso do Sul</a>,\n",
              " <a href=\"https://www.guiademidia.com.br/mato-grosso-do-sul/jornais-de-campo-grande.htm\" title=\"Jornais de Campo Grande MS\">Campo Grande</a>,\n",
              " <a href=\"https://www.guiademidia.com.br/jornaisdeminasgerais.htm\" title=\"Jornais Mineiros\">Jornais de Minas Gerais</a>,\n",
              " <a href=\"https://www.guiademidia.com.br/minas-gerais/jornais-de-belo-horizonte.htm\" title=\"Jornais de BH\">Belo Horizonte</a>,\n",
              " <a href=\"https://www.guiademidia.com.br/jornaisdopara.htm\" title=\"Jornais Paraenses\">Jornais do Pará</a>,\n",
              " <a href=\"https://www.guiademidia.com.br/para/jornais-de-belem.htm\" title=\"Jornais de Belém do Pará\">Belém</a>,\n",
              " <a href=\"https://www.guiademidia.com.br/jornais/saopaulo/bairros.htm\" title=\"Jornais de Bairros SP\">Bairros SP</a>,\n",
              " <a href=\"https://www.guiademidia.com.br/jornais/saopaulo/capital.htm\" title=\"Jornais da Capital Paulista\">Capital SP</a>,\n",
              " <a href=\"https://www.guiademidia.com.br/jornais/saopaulo/grandesp.htm\" title=\"Jornais da Grande São Paulo\">Grande SP</a>,\n",
              " <a href=\"https://www.guiademidia.com.br/jornais/saopaulo/litoral.htm\" title=\"Jornais do Litoral Paulista\">Litoral SP</a>,\n",
              " <a href=\"https://www.guiademidia.com.br/jornais/saopaulo/interior.htm\" title=\"Jornais do Interior Paulista, Jornais Interior SP\">Interior SP</a>,\n",
              " <a href=\"https://www.guiademidia.com.br/jornaisdaparaiba.htm\" title=\"Jornais Paraibanos\">Jornais da Paraíba</a>,\n",
              " <a href=\"https://www.guiademidia.com.br/paraiba/jornais-de-joao-pessoa.htm\" title=\"Jornais de João Pessoa PB\">João Pessoa</a>,\n",
              " <a href=\"https://www.guiademidia.com.br/jornaisdoparana.htm\" title=\"Jornais Paranaenses\">Jornais do Paraná</a>,\n",
              " <a href=\"https://www.guiademidia.com.br/parana/jornais-de-curitiba.htm\" title=\"Jornais de Curitiba PR\">Curitiba</a>,\n",
              " <a href=\"https://www.guiademidia.com.br/jornaisdepernambuco.htm\" title=\"Jornais Pernambucanos\">Jornais de Pernambuco</a>,\n",
              " <a href=\"https://www.guiademidia.com.br/pernambuco/jornais-de-recife.htm\" title=\"Jornais do Recife PE\">Recife</a>,\n",
              " <a href=\"https://www.guiademidia.com.br/jornaisdopiaui.htm\" title=\"Jornais Piauienses\">Jornais do Piauí</a>,\n",
              " <a href=\"https://www.guiademidia.com.br/piaui/jornais-de-teresina.htm\" title=\"Jornais de Teresina PI\">Teresina</a>,\n",
              " <a href=\"https://www.guiademidia.com.br/jornaisdoriograndedonorte.htm\" title=\"Jornais Potiguar\">Jornais Rio Grande do Norte</a>,\n",
              " <a href=\"https://www.guiademidia.com.br/rio-grande-do-norte/jornais-de-natal.htm\" title=\"Jornais de Natal RN\">Natal</a>,\n",
              " <a href=\"https://www.guiademidia.com.br/jornaisdoriograndedosul.htm\" title=\"Jornais Gaúchos, Jornais RS\">Jornais Rio Grande do Sul</a>,\n",
              " <a href=\"https://www.guiademidia.com.br/rio-grande-do-sul/jornais-de-porto-alegre.htm\" title=\"Jornais de Porto Alegre RS\">Porto Alegre</a>,\n",
              " <a href=\"https://www.guiademidia.com.br/jornaisdoriodejaneiro.htm\" title=\"Jornais Fluminenses, Jornais do RJ\">Jornais do Rio de Janeiro</a>,\n",
              " <a href=\"https://www.guiademidia.com.br/rio-de-janeiro/jornais-do-rio-de-janeiro.htm\" title=\"Jornais Carioca, Jornais da Cidade do Rio\">Cidade do Rio</a>,\n",
              " <a href=\"https://www.guiademidia.com.br/jornaisderondonia.htm\" title=\"Jornais Rondonienses\">Jornais de Rondônia</a>,\n",
              " <a href=\"https://www.guiademidia.com.br/rondonia/jornais-de-porto-velho.htm\" title=\"Jornais de Porto Velho RO\">Porto Velho</a>,\n",
              " <a href=\"https://www.guiademidia.com.br/jornaisderoraima.htm\" title=\"Jornais Roraimenses\">Jornais de Roraima</a>,\n",
              " <a href=\"https://www.guiademidia.com.br/roraima/jornais-de-boa-vista.htm\" title=\"Jornais de Boa Vista RR\">Boa Vista</a>,\n",
              " <a href=\"https://www.guiademidia.com.br/jornaisdesantacatarina.htm\" title=\"Jornais Catarinenses\">Jornais de Santa Catarina</a>,\n",
              " <a href=\"https://www.guiademidia.com.br/santa-catarina/jornais-de-florianopolis.htm\" title=\"Jornais de Florianópolis, Jornais de Floripa SC\">Florianópolis</a>,\n",
              " <a href=\"https://www.guiademidia.com.br/jornaisdesaopaulo.htm\" title=\"Jornais Paulistas, Estado de São Paulo\">Jornais de SP</a>,\n",
              " <a href=\"https://www.guiademidia.com.br/jornais/saopaulo/capital.htm\" title=\"Jornais da cidade de São Paulo\">São Paulo</a>,\n",
              " <a href=\"https://www.guiademidia.com.br/jornaisdosergipe.htm\" title=\"Jornais Sergipanos\">Jornais de Sergipe</a>,\n",
              " <a href=\"https://www.guiademidia.com.br/sergipe/jornais-de-aracaju.htm\" title=\"Jornais de Aracaju SE\">Aracaju</a>,\n",
              " <a href=\"https://www.guiademidia.com.br/jornaisdotocantins.htm\" title=\"Jornais Tocantinenses\">Jornais do Tocantins</a>,\n",
              " <a href=\"https://www.guiademidia.com.br/tocantins/jornais-de-palmas.htm\" title=\"Jornais de Palmas TO\">Palmas</a>,\n",
              " <a href=\"agenciasdenoticias.htm\" title=\"Agências de Notícias do Brasil e Internacionais\">Agências de Notícias</a>,\n",
              " <a href=\"webjornais.htm\" title=\"Webjornais\">Webjornais</a>,\n",
              " <a href=\"jornaisdirigidos.htm\" title=\"Jornais Especializados, Jornais Dirigidos\">Jornais Dirigidos</a>,\n",
              " <a href=\"https://www.guiademidia.com.br/revistasonline.htm\">Revistas Online</a>,\n",
              " <a href=\"https://www.guiademidia.com.br/radiosonline.htm\">Rádios do Brasil</a>,\n",
              " <a href=\"https://www.guiademidia.com.br/cidades/turisticas.htm\">Cidades do Brasil</a>,\n",
              " <a href=\"https://www.guiademidia.com.br/sitesbaladas.htm\">Sites de Baladas</a>,\n",
              " <a href=\"https://www.guiademidia.com.br/tvsonline.htm\">Sites TVs Online</a>,\n",
              " <a class=\"letra-cor3\" href=\"https://www.guiademidia.com.br/jornais/americadosul.htm\">Jornais América do Sul</a>,\n",
              " <a class=\"letra-cor4\" href=\"https://www.guiademidia.com.br/jornais/americacentral.htm\">Jornais América Central</a>,\n",
              " <a class=\"letra-cor5\" href=\"https://www.guiademidia.com.br/jornais/americadonorte.htm\">Jornais América do Norte</a>,\n",
              " <a class=\"letra-cor6\" href=\"https://www.guiademidia.com.br/jornais/africa.htm\">Jornais África</a>,\n",
              " <a class=\"letra-cor7\" href=\"https://www.guiademidia.com.br/jornais/asia.htm\">Jornais Ásia</a>,\n",
              " <a class=\"letra-cor8\" href=\"https://www.guiademidia.com.br/jornais/europa.htm\">Jornais Europa</a>,\n",
              " <a class=\"letra-cor9\" href=\"https://www.guiademidia.com.br/jornais/oceania.htm\">Jornais Ocêania</a>,\n",
              " <a href=\"https://www.guiademidia.com.br/\" title=\"Site Guia de Mídia\"><img alt=\"Logo Guia de Mídia\" class=\"logo-rodape\" src=\"imagens/logo/v7/logo-gdm-v7-80x80.png\"/></a>,\n",
              " <a href=\"https://www.youtube.com/user/guiademidia\" target=\"_blank\"><img alt=\"Canal do Guia de Mídia no Youtube\" src=\"imagens/rede-social/youtube-circle-50x50.png\"/></a>,\n",
              " <a href=\"https://twitter.com/guia_de_midia\" target=\"_blank\"><img alt=\"Twitter do Site Guia de Mídia\" src=\"imagens/rede-social/twitter-circle-50x50.png\"/></a>,\n",
              " <a href=\"https://www.facebook.com/guiadejornais\" target=\"_blank\"><img alt=\"Página do Guia de Mídia no Facebook\" src=\"imagens/rede-social/facebook-circle-50x50.png\"/></a>,\n",
              " <a href=\"https://www.guiademidia.com.br/jornais.htm\">Guia de Jornais Brasil</a>,\n",
              " <a href=\"quemsomos/contatos.htm\">Contato</a>,\n",
              " <a href=\"publicidade/publicidade.htm\" target=\"_blank\">Publicidade</a>,\n",
              " <a class=\"vermelhao\" href=\"cadastro/sites.htm\" target=\"_blank\">Cadastre seu Site</a>,\n",
              " <a class=\"verde\" href=\"politica-de-privacidade.htm\" target=\"_blank\">Política de Privacidade</a>,\n",
              " <a href=\"/cdn-cgi/l/email-protection#395e4c50585d5c54505d50585b4b795e54585055175a5654064a4c5b535c5a4d047c6b6b761969fab87e707778\" title=\"Comunicar erro na página\"><span class=\"__cf_email__\" data-cfemail=\"f394869a9297969e9a979a929181b3949e929a9fdd909c9e\">[email protected]</span></a>,\n",
              " <a href=\"https://www.guiademidia.com.br\">www.guiademidia.com.br</a>]"
            ]
          },
          "metadata": {
            "tags": []
          },
          "execution_count": 4
        }
      ]
    },
    {
      "cell_type": "code",
      "metadata": {
        "id": "-YG0lLZrHDvu",
        "colab_type": "code",
        "colab": {}
      },
      "source": [
        "first = soup.find(text=\"Jornais do Rio\")"
      ],
      "execution_count": null,
      "outputs": []
    },
    {
      "cell_type": "code",
      "metadata": {
        "id": "Viq0P3JsHn6W",
        "colab_type": "code",
        "colab": {}
      },
      "source": [
        "jb_links = first.find_all_next('a')"
      ],
      "execution_count": null,
      "outputs": []
    },
    {
      "cell_type": "code",
      "metadata": {
        "id": "XpJrl-xAITmN",
        "colab_type": "code",
        "colab": {}
      },
      "source": [
        "links_jb = []\n",
        "for a in jb_links:\n",
        "  if a.get('href')!= 'agenciasdenoticias.htm':\n",
        "    links_jb.append(a.get('href'))\n",
        "  else:\n",
        "    break"
      ],
      "execution_count": null,
      "outputs": []
    },
    {
      "cell_type": "code",
      "metadata": {
        "id": "Q1MtNITWJ7ej",
        "colab_type": "code",
        "colab": {}
      },
      "source": [
        "links_jb_estado = []\n",
        "links_jb_capital = []\n",
        "links_sp_capital = []\n",
        "\n",
        "for link in links_jb:\n",
        "  if link.count('/') == 3:\n",
        "    links_jb_estado.append(link)\n",
        "  elif link.count('/') == 4:\n",
        "    links_jb_capital.append(link)\n",
        "  else:\n",
        "    links_sp_capital.append(link)"
      ],
      "execution_count": null,
      "outputs": []
    },
    {
      "cell_type": "markdown",
      "metadata": {
        "id": "sKRfp1ykc5Wy",
        "colab_type": "text"
      },
      "source": [
        "# **Função para Scrappy dos Jornais**"
      ]
    },
    {
      "cell_type": "code",
      "metadata": {
        "id": "sq8dzJAbdCjN",
        "colab_type": "code",
        "colab": {}
      },
      "source": [
        "import re\n",
        "\n",
        "def scrappy_jornais(tag, class_, soup, dic):\n",
        "\n",
        "  dic_temp = dic\n",
        "  dic_temp['nome'] = dic['nome']\n",
        "  dic_temp['link'] = dic['link']\n",
        "\n",
        "  if class_ == '':\n",
        "    rows = soup.find_all(tag)\n",
        "  else:\n",
        "    rows = soup.find_all(tag, class_= class_)\n",
        "\n",
        "  for row in rows:\n",
        "    cells = row.find_all('a')\n",
        "    str_cells = str(cells)\n",
        "    clean_names = re.compile('<.*?>')\n",
        "    clean = (re.sub(clean_names, '',str_cells))\n",
        "    dic['nome'].append(clean.rstrip('[]'))\n",
        "\n",
        "  for row in rows:\n",
        "    links = row.find_all('a')\n",
        "    str_links = str(links)\n",
        "    clean_links = re.compile(\"((http|https)\\:\\/\\/)?[a-zA-Z0-9\\.\\/\\?\\:@\\-_=#]+\\.([a-zA-Z]){2,6}([a-zA-Z0-9\\.\\&\\/\\?\\:@\\-_=#])*\")\n",
        "    clean = (re.search(clean_links, str_links))\n",
        "    pre_link = str(clean).split('match=')\n",
        "    if len(pre_link) > 1:\n",
        "      dic['link'].append(pre_link[1].rstrip('>'))\n",
        "    else:\n",
        "      dic['link'].append(pre_link[0].rstrip('None'))\n",
        "  return dic"
      ],
      "execution_count": null,
      "outputs": []
    },
    {
      "cell_type": "markdown",
      "metadata": {
        "id": "y5lOxqrSgF4l",
        "colab_type": "text"
      },
      "source": [
        "# **Scrapping Jornais Brasileiros por Estado**\n",
        "lista = links_jb_estado"
      ]
    },
    {
      "cell_type": "code",
      "metadata": {
        "id": "KKS_2J8tdhnX",
        "colab_type": "code",
        "colab": {
          "base_uri": "https://localhost:8080/",
          "height": 508
        },
        "outputId": "c266562e-34e8-4292-a24d-2e55f72c426c"
      },
      "source": [
        "c = 0\n",
        "dados = {}\n",
        "dados['nome'] = []\n",
        "dados['link'] = []\n",
        "\n",
        "for link in links_jb_estado:\n",
        "  req = Request(link, headers={'User-Agent': 'Mozilla/5.0'})\n",
        "  c += 1\n",
        "  print(\"site\", c)\n",
        "  webpage = urlopen(req).read()\n",
        "  soup = BeautifulSoup(webpage, 'lxml')\n",
        "\n",
        "  scrappy_jornais('tr','', soup, dados)"
      ],
      "execution_count": null,
      "outputs": [
        {
          "output_type": "stream",
          "text": [
            "site 1\n",
            "site 2\n",
            "site 3\n",
            "site 4\n",
            "site 5\n",
            "site 6\n",
            "site 7\n",
            "site 8\n",
            "site 9\n",
            "site 10\n",
            "site 11\n",
            "site 12\n",
            "site 13\n",
            "site 14\n",
            "site 15\n",
            "site 16\n",
            "site 17\n",
            "site 18\n",
            "site 19\n",
            "site 20\n",
            "site 21\n",
            "site 22\n",
            "site 23\n",
            "site 24\n",
            "site 25\n",
            "site 26\n",
            "site 27\n"
          ],
          "name": "stdout"
        }
      ]
    },
    {
      "cell_type": "code",
      "metadata": {
        "id": "s1inUqQUlhbA",
        "colab_type": "code",
        "colab": {
          "base_uri": "https://localhost:8080/",
          "height": 198
        },
        "outputId": "267ffdda-e2d7-470d-da91-22fc0c25ddd5"
      },
      "source": [
        "df = pd.DataFrame(dados)\n",
        "df.tail()"
      ],
      "execution_count": null,
      "outputs": [
        {
          "output_type": "execute_result",
          "data": {
            "text/html": [
              "<div>\n",
              "<style scoped>\n",
              "    .dataframe tbody tr th:only-of-type {\n",
              "        vertical-align: middle;\n",
              "    }\n",
              "\n",
              "    .dataframe tbody tr th {\n",
              "        vertical-align: top;\n",
              "    }\n",
              "\n",
              "    .dataframe thead th {\n",
              "        text-align: right;\n",
              "    }\n",
              "</style>\n",
              "<table border=\"1\" class=\"dataframe\">\n",
              "  <thead>\n",
              "    <tr style=\"text-align: right;\">\n",
              "      <th></th>\n",
              "      <th>nome</th>\n",
              "      <th>link</th>\n",
              "    </tr>\n",
              "  </thead>\n",
              "  <tbody>\n",
              "    <tr>\n",
              "      <th>3758</th>\n",
              "      <td>[Blog Jaciara Barros</td>\n",
              "      <td>'http://www.jaciarabarros.com.br/'</td>\n",
              "    </tr>\n",
              "    <tr>\n",
              "      <th>3759</th>\n",
              "      <td>[Blog Palmas Aqui</td>\n",
              "      <td>'https://palmasaqui.wordpress.com/'</td>\n",
              "    </tr>\n",
              "    <tr>\n",
              "      <th>3760</th>\n",
              "      <td>[Blog Cidade Interativa Almas TO</td>\n",
              "      <td>'http://cialmas.blogspot.com.br/'</td>\n",
              "    </tr>\n",
              "    <tr>\n",
              "      <th>3761</th>\n",
              "      <td>[Blog do Luiz Martins</td>\n",
              "      <td>'http://www.luizmartins.net/'</td>\n",
              "    </tr>\n",
              "    <tr>\n",
              "      <th>3762</th>\n",
              "      <td>[Blogs</td>\n",
              "      <td>'https://www.guiademidia.com.br/blogs/jornalis...</td>\n",
              "    </tr>\n",
              "  </tbody>\n",
              "</table>\n",
              "</div>"
            ],
            "text/plain": [
              "                                  nome                                               link\n",
              "3758              [Blog Jaciara Barros                 'http://www.jaciarabarros.com.br/'\n",
              "3759                 [Blog Palmas Aqui                'https://palmasaqui.wordpress.com/'\n",
              "3760  [Blog Cidade Interativa Almas TO                  'http://cialmas.blogspot.com.br/'\n",
              "3761             [Blog do Luiz Martins                      'http://www.luizmartins.net/'\n",
              "3762                            [Blogs  'https://www.guiademidia.com.br/blogs/jornalis..."
            ]
          },
          "metadata": {
            "tags": []
          },
          "execution_count": 11
        }
      ]
    },
    {
      "cell_type": "code",
      "metadata": {
        "id": "OKkoB7CfntGs",
        "colab_type": "code",
        "colab": {}
      },
      "source": [
        "import numpy as np\n",
        "\n",
        "df.replace('', np.nan, inplace=True)\n",
        "df.dropna(axis=0, inplace=True)"
      ],
      "execution_count": null,
      "outputs": []
    },
    {
      "cell_type": "code",
      "metadata": {
        "id": "HV_cC4iyv3jY",
        "colab_type": "code",
        "colab": {
          "base_uri": "https://localhost:8080/",
          "height": 407
        },
        "outputId": "af23fb80-295c-4218-ee98-1f50a5990cb4"
      },
      "source": [
        "df"
      ],
      "execution_count": null,
      "outputs": [
        {
          "output_type": "execute_result",
          "data": {
            "text/html": [
              "<div>\n",
              "<style scoped>\n",
              "    .dataframe tbody tr th:only-of-type {\n",
              "        vertical-align: middle;\n",
              "    }\n",
              "\n",
              "    .dataframe tbody tr th {\n",
              "        vertical-align: top;\n",
              "    }\n",
              "\n",
              "    .dataframe thead th {\n",
              "        text-align: right;\n",
              "    }\n",
              "</style>\n",
              "<table border=\"1\" class=\"dataframe\">\n",
              "  <thead>\n",
              "    <tr style=\"text-align: right;\">\n",
              "      <th></th>\n",
              "      <th>nome</th>\n",
              "      <th>link</th>\n",
              "    </tr>\n",
              "  </thead>\n",
              "  <tbody>\n",
              "    <tr>\n",
              "      <th>2</th>\n",
              "      <td>[A Gazeta do Acre</td>\n",
              "      <td>'http://www.agazetadoacre.com'</td>\n",
              "    </tr>\n",
              "    <tr>\n",
              "      <th>3</th>\n",
              "      <td>[Jornal Página 20</td>\n",
              "      <td>'http://www.pagina20.net'</td>\n",
              "    </tr>\n",
              "    <tr>\n",
              "      <th>4</th>\n",
              "      <td>[O Rio Branco</td>\n",
              "      <td>'http://www.oriobranco.net/'</td>\n",
              "    </tr>\n",
              "    <tr>\n",
              "      <th>5</th>\n",
              "      <td>[A Tribuna do Acre</td>\n",
              "      <td>'http://www.jornalatribuna.com.br/'</td>\n",
              "    </tr>\n",
              "    <tr>\n",
              "      <th>6</th>\n",
              "      <td>[Jornal Opinião</td>\n",
              "      <td>'http://www.jornalopiniao.net/'</td>\n",
              "    </tr>\n",
              "    <tr>\n",
              "      <th>...</th>\n",
              "      <td>...</td>\n",
              "      <td>...</td>\n",
              "    </tr>\n",
              "    <tr>\n",
              "      <th>3758</th>\n",
              "      <td>[Blog Jaciara Barros</td>\n",
              "      <td>'http://www.jaciarabarros.com.br/'</td>\n",
              "    </tr>\n",
              "    <tr>\n",
              "      <th>3759</th>\n",
              "      <td>[Blog Palmas Aqui</td>\n",
              "      <td>'https://palmasaqui.wordpress.com/'</td>\n",
              "    </tr>\n",
              "    <tr>\n",
              "      <th>3760</th>\n",
              "      <td>[Blog Cidade Interativa Almas TO</td>\n",
              "      <td>'http://cialmas.blogspot.com.br/'</td>\n",
              "    </tr>\n",
              "    <tr>\n",
              "      <th>3761</th>\n",
              "      <td>[Blog do Luiz Martins</td>\n",
              "      <td>'http://www.luizmartins.net/'</td>\n",
              "    </tr>\n",
              "    <tr>\n",
              "      <th>3762</th>\n",
              "      <td>[Blogs</td>\n",
              "      <td>'https://www.guiademidia.com.br/blogs/jornalis...</td>\n",
              "    </tr>\n",
              "  </tbody>\n",
              "</table>\n",
              "<p>3587 rows × 2 columns</p>\n",
              "</div>"
            ],
            "text/plain": [
              "                                  nome                                               link\n",
              "2                    [A Gazeta do Acre                     'http://www.agazetadoacre.com'\n",
              "3                    [Jornal Página 20                          'http://www.pagina20.net'\n",
              "4                        [O Rio Branco                       'http://www.oriobranco.net/'\n",
              "5                   [A Tribuna do Acre                'http://www.jornalatribuna.com.br/'\n",
              "6                      [Jornal Opinião                    'http://www.jornalopiniao.net/'\n",
              "...                                ...                                                ...\n",
              "3758              [Blog Jaciara Barros                 'http://www.jaciarabarros.com.br/'\n",
              "3759                 [Blog Palmas Aqui                'https://palmasaqui.wordpress.com/'\n",
              "3760  [Blog Cidade Interativa Almas TO                  'http://cialmas.blogspot.com.br/'\n",
              "3761             [Blog do Luiz Martins                      'http://www.luizmartins.net/'\n",
              "3762                            [Blogs  'https://www.guiademidia.com.br/blogs/jornalis...\n",
              "\n",
              "[3587 rows x 2 columns]"
            ]
          },
          "metadata": {
            "tags": []
          },
          "execution_count": 13
        }
      ]
    },
    {
      "cell_type": "code",
      "metadata": {
        "id": "qjBNnyPzIsLM",
        "colab_type": "code",
        "colab": {}
      },
      "source": [
        "df.to_excel('/content/publishers_estados.xls')"
      ],
      "execution_count": null,
      "outputs": []
    },
    {
      "cell_type": "markdown",
      "metadata": {
        "id": "2B4rpAOpP7tx",
        "colab_type": "text"
      },
      "source": [
        "# **Scrapping Jornais Brasileiros por Capital**\n",
        "\n",
        "lista = links_jb_capital"
      ]
    },
    {
      "cell_type": "code",
      "metadata": {
        "id": "2mPcE7GjEHba",
        "colab_type": "code",
        "colab": {
          "base_uri": "https://localhost:8080/",
          "height": 490
        },
        "outputId": "8ba98ab7-b304-44f9-eb2b-51e5b143257f"
      },
      "source": [
        "c = 0\n",
        "dados = {}\n",
        "dados['nome'] = []\n",
        "dados['link'] = []\n",
        "\n",
        "for link in links_jb_capital:\n",
        "  req = Request(link, headers={'User-Agent': 'Mozilla/5.0'})\n",
        "  c += 1\n",
        "  webpage = urlopen(req).read()\n",
        "  soup = BeautifulSoup(webpage, 'lxml')\n",
        "  #print(soup.find(\"div\", class_=\"lista\"))\n",
        "  if soup.find(\"div\", class_=\"lista\") != None:\n",
        "    pre_rows = soup.find(\"div\", class_=\"lista\")\n",
        "    print(\"site\", c, \"no class:\", link)\n",
        "    for pre_row in pre_rows:\n",
        "      scrappy_jornais(\"p\", \"\", soup, dados)\n",
        "  \n",
        "  elif soup.find(\"tr\", class_=\"unnamed1\") != None:\n",
        "    print(\"site\", c, \"unnamed1 tr:\", link)\n",
        "    scrappy_jornais('tr',\"unnamed1\", soup, dados)\n",
        "  \n",
        "  elif soup.find(\"td\", class_=\"unnamed1\") != None:\n",
        "    print(\"site\", c, \"unnamed1 td:\", link)\n",
        "\n",
        "  elif soup.find(\"td\", class_=\"jornais\") != None:\n",
        "    print(\"site\", c, \"jornais:\", link)\n",
        "    scrappy_jornais('td',\"jornais\", soup, dados)\n",
        "  else:\n",
        "    print(\"site\", c, \"conteudo:\", link)\n",
        "    scrappy_jornais('div',\"conteudo\", soup, dados)"
      ],
      "execution_count": null,
      "outputs": [
        {
          "output_type": "stream",
          "text": [
            "site 1 no class: https://www.guiademidia.com.br/acre/jornais-de-rio-branco.htm\n",
            "site 2 no class: https://www.guiademidia.com.br/alagoas/jornais-de-maceio.htm\n",
            "site 3 no class: https://www.guiademidia.com.br/amapa/jornais-de-macapa.htm\n",
            "site 4 no class: https://www.guiademidia.com.br/amazonas/jornais-de-manaus.htm\n",
            "site 5 unnamed1 tr: https://www.guiademidia.com.br/bahia/jornais-de-salvador.htm\n",
            "site 6 unnamed1 tr: https://www.guiademidia.com.br/ceara/jornais-de-fortaleza.htm\n",
            "site 7 unnamed1 tr: https://www.guiademidia.com.br/distrito-federal/jornais-de-brasilia.htm\n",
            "site 8 unnamed1 td: https://www.guiademidia.com.br/espirito-santo/jornais-de-vitoria.htm\n",
            "site 9 unnamed1 td: https://www.guiademidia.com.br/goias/jornais-de-goiania.htm\n",
            "site 10 unnamed1 tr: https://www.guiademidia.com.br/maranhao/jornais-de-sao-luis.htm\n",
            "site 11 unnamed1 td: https://www.guiademidia.com.br/mato-grosso/jornais-de-cuiaba.htm\n",
            "site 12 unnamed1 tr: https://www.guiademidia.com.br/mato-grosso-do-sul/jornais-de-campo-grande.htm\n",
            "site 13 unnamed1 td: https://www.guiademidia.com.br/minas-gerais/jornais-de-belo-horizonte.htm\n",
            "site 14 unnamed1 tr: https://www.guiademidia.com.br/para/jornais-de-belem.htm\n",
            "site 15 unnamed1 td: https://www.guiademidia.com.br/paraiba/jornais-de-joao-pessoa.htm\n",
            "site 16 unnamed1 tr: https://www.guiademidia.com.br/parana/jornais-de-curitiba.htm\n",
            "site 17 unnamed1 tr: https://www.guiademidia.com.br/pernambuco/jornais-de-recife.htm\n",
            "site 18 unnamed1 tr: https://www.guiademidia.com.br/piaui/jornais-de-teresina.htm\n",
            "site 19 unnamed1 tr: https://www.guiademidia.com.br/rio-grande-do-norte/jornais-de-natal.htm\n",
            "site 20 unnamed1 tr: https://www.guiademidia.com.br/rio-grande-do-sul/jornais-de-porto-alegre.htm\n",
            "site 21 unnamed1 tr: https://www.guiademidia.com.br/rio-de-janeiro/jornais-do-rio-de-janeiro.htm\n",
            "site 22 conteudo: https://www.guiademidia.com.br/rondonia/jornais-de-porto-velho.htm\n",
            "site 23 no class: https://www.guiademidia.com.br/roraima/jornais-de-boa-vista.htm\n",
            "site 24 unnamed1 tr: https://www.guiademidia.com.br/santa-catarina/jornais-de-florianopolis.htm\n",
            "site 25 unnamed1 td: https://www.guiademidia.com.br/sergipe/jornais-de-aracaju.htm\n",
            "site 26 unnamed1 td: https://www.guiademidia.com.br/tocantins/jornais-de-palmas.htm\n"
          ],
          "name": "stdout"
        }
      ]
    },
    {
      "cell_type": "code",
      "metadata": {
        "id": "7yhJD2h3VThd",
        "colab_type": "code",
        "colab": {
          "base_uri": "https://localhost:8080/",
          "height": 198
        },
        "outputId": "10e885fb-030a-4c2b-f5fa-13423eef404d"
      },
      "source": [
        "df = pd.DataFrame(dados)\n",
        "df.tail()"
      ],
      "execution_count": null,
      "outputs": [
        {
          "output_type": "execute_result",
          "data": {
            "text/html": [
              "<div>\n",
              "<style scoped>\n",
              "    .dataframe tbody tr th:only-of-type {\n",
              "        vertical-align: middle;\n",
              "    }\n",
              "\n",
              "    .dataframe tbody tr th {\n",
              "        vertical-align: top;\n",
              "    }\n",
              "\n",
              "    .dataframe thead th {\n",
              "        text-align: right;\n",
              "    }\n",
              "</style>\n",
              "<table border=\"1\" class=\"dataframe\">\n",
              "  <thead>\n",
              "    <tr style=\"text-align: right;\">\n",
              "      <th></th>\n",
              "      <th>nome</th>\n",
              "      <th>link</th>\n",
              "    </tr>\n",
              "  </thead>\n",
              "  <tbody>\n",
              "    <tr>\n",
              "      <th>17153</th>\n",
              "      <td>[Portal\\nda Ilha</td>\n",
              "      <td>'http://www.portaldailha.com.br'</td>\n",
              "    </tr>\n",
              "    <tr>\n",
              "      <th>17154</th>\n",
              "      <td>[Portal\\nduCampeche,</td>\n",
              "      <td>'http://ducampeche.com.br/'</td>\n",
              "    </tr>\n",
              "    <tr>\n",
              "      <th>17155</th>\n",
              "      <td>[TV Jurerê</td>\n",
              "      <td>'http://www.tvjurere.com.br'</td>\n",
              "    </tr>\n",
              "    <tr>\n",
              "      <th>17156</th>\n",
              "      <td>[Portal Hoje News</td>\n",
              "      <td>'https://hoje.news/'</td>\n",
              "    </tr>\n",
              "    <tr>\n",
              "      <th>17157</th>\n",
              "      <td></td>\n",
              "      <td></td>\n",
              "    </tr>\n",
              "  </tbody>\n",
              "</table>\n",
              "</div>"
            ],
            "text/plain": [
              "                        nome                              link\n",
              "17153       [Portal\\nda Ilha  'http://www.portaldailha.com.br'\n",
              "17154  [Portal\\nduCampeche,        'http://ducampeche.com.br/'\n",
              "17155             [TV Jurerê      'http://www.tvjurere.com.br'\n",
              "17156      [Portal Hoje News              'https://hoje.news/'\n",
              "17157                                                         "
            ]
          },
          "metadata": {
            "tags": []
          },
          "execution_count": 28
        }
      ]
    },
    {
      "cell_type": "code",
      "metadata": {
        "id": "mXZe9EJyYjnI",
        "colab_type": "code",
        "colab": {
          "base_uri": "https://localhost:8080/",
          "height": 168
        },
        "outputId": "3b539b67-ded6-4b6e-bb26-fdbec2e59519"
      },
      "source": [
        "df.replace('',np.nan,inplace=True)\n",
        "df.dropna(axis=0, inplace=True)\n",
        "df.drop_duplicates('link', keep='first',inplace=True)\n",
        "df.describe()"
      ],
      "execution_count": null,
      "outputs": [
        {
          "output_type": "execute_result",
          "data": {
            "text/html": [
              "<div>\n",
              "<style scoped>\n",
              "    .dataframe tbody tr th:only-of-type {\n",
              "        vertical-align: middle;\n",
              "    }\n",
              "\n",
              "    .dataframe tbody tr th {\n",
              "        vertical-align: top;\n",
              "    }\n",
              "\n",
              "    .dataframe thead th {\n",
              "        text-align: right;\n",
              "    }\n",
              "</style>\n",
              "<table border=\"1\" class=\"dataframe\">\n",
              "  <thead>\n",
              "    <tr style=\"text-align: right;\">\n",
              "      <th></th>\n",
              "      <th>nome</th>\n",
              "      <th>link</th>\n",
              "    </tr>\n",
              "  </thead>\n",
              "  <tbody>\n",
              "    <tr>\n",
              "      <th>count</th>\n",
              "      <td>522</td>\n",
              "      <td>522</td>\n",
              "    </tr>\n",
              "    <tr>\n",
              "      <th>unique</th>\n",
              "      <td>520</td>\n",
              "      <td>522</td>\n",
              "    </tr>\n",
              "    <tr>\n",
              "      <th>top</th>\n",
              "      <td>[Notícias de Maceió</td>\n",
              "      <td>'https://www.guiademidia.com.br/roraima/jornai...</td>\n",
              "    </tr>\n",
              "    <tr>\n",
              "      <th>freq</th>\n",
              "      <td>2</td>\n",
              "      <td>1</td>\n",
              "    </tr>\n",
              "  </tbody>\n",
              "</table>\n",
              "</div>"
            ],
            "text/plain": [
              "                       nome                                               link\n",
              "count                   522                                                522\n",
              "unique                  520                                                522\n",
              "top     [Notícias de Maceió  'https://www.guiademidia.com.br/roraima/jornai...\n",
              "freq                      2                                                  1"
            ]
          },
          "metadata": {
            "tags": []
          },
          "execution_count": 42
        }
      ]
    },
    {
      "cell_type": "code",
      "metadata": {
        "id": "sAtNHR0fAmOf",
        "colab_type": "code",
        "colab": {}
      },
      "source": [
        "df.to_excel('/content/publishers_capitais.xls')"
      ],
      "execution_count": null,
      "outputs": []
    },
    {
      "cell_type": "markdown",
      "metadata": {
        "id": "0kudqUvVwDs3",
        "colab_type": "text"
      },
      "source": [
        "# **API da AWS com trafficInfo de sites**"
      ]
    },
    {
      "cell_type": "code",
      "metadata": {
        "id": "u3h6CqwEwFVI",
        "colab_type": "code",
        "colab": {
          "base_uri": "https://localhost:8080/",
          "height": 145
        },
        "outputId": "027952aa-1411-473e-fa1a-17fad9bb70fb"
      },
      "source": [
        "! git clone https://github.com/magemongo/alexa-web-information-service-api-samples"
      ],
      "execution_count": 1,
      "outputs": [
        {
          "output_type": "stream",
          "text": [
            "Cloning into 'alexa-web-information-service-api-samples'...\n",
            "remote: Enumerating objects: 34, done.\u001b[K\n",
            "remote: Counting objects: 100% (34/34), done.\u001b[K\n",
            "remote: Compressing objects: 100% (26/26), done.\u001b[K\n",
            "remote: Total 180 (delta 10), reused 24 (delta 7), pack-reused 146\u001b[K\n",
            "Receiving objects: 100% (180/180), 66.87 KiB | 7.43 MiB/s, done.\n",
            "Resolving deltas: 100% (69/69), done.\n"
          ],
          "name": "stdout"
        }
      ]
    },
    {
      "cell_type": "code",
      "metadata": {
        "id": "WgFv6YFxArwz",
        "colab_type": "code",
        "colab": {
          "base_uri": "https://localhost:8080/",
          "height": 72
        },
        "outputId": "6339f859-b749-4a5f-ef18-46ff4c10b66d"
      },
      "source": [
        "from distutils.dir_util import copy_tree\n",
        "\n",
        "# copy subdirectory example\n",
        "fromDirectory = \"/content/alexa-web-information-service-api-samples/python\"\n",
        "toDirectory = \"/content/local_repo\"\n",
        "\n",
        "copy_tree(fromDirectory, toDirectory)"
      ],
      "execution_count": 2,
      "outputs": [
        {
          "output_type": "execute_result",
          "data": {
            "text/plain": [
              "['/content/local_repo/readme.txt',\n",
              " '/content/local_repo/awis.py',\n",
              " '/content/local_repo/requirements.txt']"
            ]
          },
          "metadata": {
            "tags": []
          },
          "execution_count": 2
        }
      ]
    },
    {
      "cell_type": "code",
      "metadata": {
        "id": "vPOYaCb5x79N",
        "colab_type": "code",
        "colab": {
          "base_uri": "https://localhost:8080/",
          "height": 108
        },
        "outputId": "cbed5001-aae7-4335-f00a-92a68d944b34"
      },
      "source": [
        "! pip install requests"
      ],
      "execution_count": 3,
      "outputs": [
        {
          "output_type": "stream",
          "text": [
            "Requirement already satisfied: requests in /usr/local/lib/python3.6/dist-packages (2.23.0)\n",
            "Requirement already satisfied: idna<3,>=2.5 in /usr/local/lib/python3.6/dist-packages (from requests) (2.9)\n",
            "Requirement already satisfied: chardet<4,>=3.0.2 in /usr/local/lib/python3.6/dist-packages (from requests) (3.0.4)\n",
            "Requirement already satisfied: urllib3!=1.25.0,!=1.25.1,<1.26,>=1.21.1 in /usr/local/lib/python3.6/dist-packages (from requests) (1.24.3)\n",
            "Requirement already satisfied: certifi>=2017.4.17 in /usr/local/lib/python3.6/dist-packages (from requests) (2020.6.20)\n"
          ],
          "name": "stdout"
        }
      ]
    },
    {
      "cell_type": "code",
      "metadata": {
        "id": "bh_7waJN0699",
        "colab_type": "code",
        "colab": {
          "base_uri": "https://localhost:8080/",
          "height": 292
        },
        "outputId": "6bc975e1-1fb5-4b82-98eb-40c70a332fad"
      },
      "source": [
        "%cd /content/local_repo\n",
        "! pip install -r requirements.txt"
      ],
      "execution_count": 4,
      "outputs": [
        {
          "output_type": "stream",
          "text": [
            "/content/local_repo\n",
            "Requirement already satisfied: boto3 in /usr/local/lib/python3.6/dist-packages (from -r requirements.txt (line 1)) (1.14.9)\n",
            "Collecting configparser\n",
            "  Downloading https://files.pythonhosted.org/packages/4b/6b/01baa293090240cf0562cc5eccb69c6f5006282127f2b846fad011305c79/configparser-5.0.0-py3-none-any.whl\n",
            "Requirement already satisfied: future in /usr/local/lib/python3.6/dist-packages (from -r requirements.txt (line 3)) (0.16.0)\n",
            "Requirement already satisfied: jmespath<1.0.0,>=0.7.1 in /usr/local/lib/python3.6/dist-packages (from boto3->-r requirements.txt (line 1)) (0.10.0)\n",
            "Requirement already satisfied: s3transfer<0.4.0,>=0.3.0 in /usr/local/lib/python3.6/dist-packages (from boto3->-r requirements.txt (line 1)) (0.3.3)\n",
            "Requirement already satisfied: botocore<1.18.0,>=1.17.9 in /usr/local/lib/python3.6/dist-packages (from boto3->-r requirements.txt (line 1)) (1.17.9)\n",
            "Requirement already satisfied: python-dateutil<3.0.0,>=2.1 in /usr/local/lib/python3.6/dist-packages (from botocore<1.18.0,>=1.17.9->boto3->-r requirements.txt (line 1)) (2.8.1)\n",
            "Requirement already satisfied: docutils<0.16,>=0.10 in /usr/local/lib/python3.6/dist-packages (from botocore<1.18.0,>=1.17.9->boto3->-r requirements.txt (line 1)) (0.15.2)\n",
            "Requirement already satisfied: urllib3<1.26,>=1.20; python_version != \"3.4\" in /usr/local/lib/python3.6/dist-packages (from botocore<1.18.0,>=1.17.9->boto3->-r requirements.txt (line 1)) (1.24.3)\n",
            "Requirement already satisfied: six>=1.5 in /usr/local/lib/python3.6/dist-packages (from python-dateutil<3.0.0,>=2.1->botocore<1.18.0,>=1.17.9->boto3->-r requirements.txt (line 1)) (1.12.0)\n",
            "Installing collected packages: configparser\n",
            "Successfully installed configparser-5.0.0\n"
          ],
          "name": "stdout"
        }
      ]
    },
    {
      "cell_type": "code",
      "metadata": {
        "id": "CEN0RiuVM1Ev",
        "colab_type": "code",
        "colab": {
          "base_uri": "https://localhost:8080/",
          "height": 1000
        },
        "outputId": "eecced55-a1c3-4b5a-ef0c-c9ed269820a0"
      },
      "source": [
        "!python3 awis.py -u 'antonio@contentlovers.co' --key=\"ahzU8Qh4xL6cROyuEcIOO5jPzonw8lpR72uA8cS6\" --action=urlInfo --options=\"Output=json&ResponseGroup=UsageStats&Url=https://agazetadoacre.com/\" "
      ],
      "execution_count": 10,
      "outputs": [
        {
          "output_type": "stream",
          "text": [
            "\n",
            "BEGIN REQUEST++++++++++++++++++++++++++++++++++++\n",
            "Request URL = https://awis.api.alexa.com/api?Action=urlInfo&Output=json&ResponseGroup=UsageStats&Url=https%3A%2F%2Fagazetadoacre.com%2F\n",
            "\n",
            "RESPONSE++++++++++++++++++++++++++++++++++++\n",
            "Response code: 200\n",
            "\n",
            "{\n",
            "    \"Awis\": {\n",
            "        \"OperationRequest\": {\n",
            "            \"RequestId\": \"2ac03972-8f71-4c24-ac11-83f8c516c90b\"\n",
            "        },\n",
            "        \"Results\": {\n",
            "            \"Result\": {\n",
            "                \"Alexa\": {\n",
            "                    \"Request\": {\n",
            "                        \"Arguments\": {\n",
            "                            \"Argument\": [\n",
            "                                {\n",
            "                                    \"Name\": \"url\",\n",
            "                                    \"Value\": \"https://agazetadoacre.com/\"\n",
            "                                },\n",
            "                                {\n",
            "                                    \"Name\": \"responsegroup\",\n",
            "                                    \"Value\": \"UsageStats\"\n",
            "                                }\n",
            "                            ]\n",
            "                        }\n",
            "                    },\n",
            "                    \"TrafficData\": {\n",
            "                        \"DataUrl\": \"agazetadoacre.com\",\n",
            "                        \"UsageStatistics\": {\n",
            "                            \"UsageStatistic\": [\n",
            "                                {\n",
            "                                    \"TimeRange\": {\n",
            "                                        \"Months\": \"3\"\n",
            "                                    },\n",
            "                                    \"Rank\": {\n",
            "                                        \"Value\": \"325887\",\n",
            "                                        \"Delta\": \"-248369\"\n",
            "                                    },\n",
            "                                    \"Reach\": {\n",
            "                                        \"Rank\": {\n",
            "                                            \"Value\": \"315841\",\n",
            "                                            \"Delta\": \"-156000\"\n",
            "                                        },\n",
            "                                        \"PerMillion\": {\n",
            "                                            \"Value\": \"1.6\",\n",
            "                                            \"Delta\": \"+70%\"\n",
            "                                        }\n",
            "                                    },\n",
            "                                    \"PageViews\": {\n",
            "                                        \"PerMillion\": {\n",
            "                                            \"Value\": \"0.09\",\n",
            "                                            \"Delta\": \"+200%\"\n",
            "                                        },\n",
            "                                        \"Rank\": {\n",
            "                                            \"Value\": \"407900\",\n",
            "                                            \"Delta\": \"-474655\"\n",
            "                                        },\n",
            "                                        \"PerUser\": {\n",
            "                                            \"Value\": \"2.2\",\n",
            "                                            \"Delta\": \"+90%\"\n",
            "                                        }\n",
            "                                    }\n",
            "                                },\n",
            "                                {\n",
            "                                    \"TimeRange\": {\n",
            "                                        \"Months\": \"1\"\n",
            "                                    },\n",
            "                                    \"Rank\": {\n",
            "                                        \"Value\": \"256400\",\n",
            "                                        \"Delta\": \"-21006\"\n",
            "                                    },\n",
            "                                    \"Reach\": {\n",
            "                                        \"Rank\": {\n",
            "                                            \"Value\": \"256649\",\n",
            "                                            \"Delta\": \"-8291\"\n",
            "                                        },\n",
            "                                        \"PerMillion\": {\n",
            "                                            \"Value\": \"2\",\n",
            "                                            \"Delta\": \"+7%\"\n",
            "                                        }\n",
            "                                    },\n",
            "                                    \"PageViews\": {\n",
            "                                        \"PerMillion\": {\n",
            "                                            \"Value\": \"0.14\",\n",
            "                                            \"Delta\": \"+30%\"\n",
            "                                        },\n",
            "                                        \"Rank\": {\n",
            "                                            \"Value\": \"306043\",\n",
            "                                            \"Delta\": \"-54563\"\n",
            "                                        },\n",
            "                                        \"PerUser\": {\n",
            "                                            \"Value\": \"2\",\n",
            "                                            \"Delta\": \"+20%\"\n",
            "                                        }\n",
            "                                    }\n",
            "                                },\n",
            "                                {\n",
            "                                    \"TimeRange\": {\n",
            "                                        \"Days\": \"7\"\n",
            "                                    },\n",
            "                                    \"Rank\": {\n",
            "                                        \"Value\": \"1882183\",\n",
            "                                        \"Delta\": \"+1753050\"\n",
            "                                    },\n",
            "                                    \"Reach\": {\n",
            "                                        \"Rank\": {\n",
            "                                            \"Value\": \"1801247\",\n",
            "                                            \"Delta\": \"+1652797\"\n",
            "                                        },\n",
            "                                        \"PerMillion\": {\n",
            "                                            \"Value\": \"0.2\",\n",
            "                                            \"Delta\": \"-96.356%\"\n",
            "                                        }\n",
            "                                    },\n",
            "                                    \"PageViews\": {\n",
            "                                        \"PerMillion\": {\n",
            "                                            \"Value\": \"0\",\n",
            "                                            \"Delta\": \"-99.054%\"\n",
            "                                        },\n",
            "                                        \"Rank\": {\n",
            "                                            \"Value\": \"1950689\",\n",
            "                                            \"Delta\": \"1821743\"\n",
            "                                        },\n",
            "                                        \"PerUser\": {\n",
            "                                            \"Value\": \"1\",\n",
            "                                            \"Delta\": \"-74.026%\"\n",
            "                                        }\n",
            "                                    }\n",
            "                                }\n",
            "                            ]\n",
            "                        },\n",
            "                        \"ContributingSubdomains\": {\n",
            "                            \"ContributingSubdomain\": {\n",
            "                                \"DataUrl\": \"agazetadoacre.com\",\n",
            "                                \"TimeRange\": {\n",
            "                                    \"Months\": \"1\"\n",
            "                                },\n",
            "                                \"Reach\": {\n",
            "                                    \"Percentage\": \"100.00%\"\n",
            "                                },\n",
            "                                \"PageViews\": {\n",
            "                                    \"Percentage\": \"100.00%\",\n",
            "                                    \"PerUser\": \"2\"\n",
            "                                }\n",
            "                            }\n",
            "                        }\n",
            "                    }\n",
            "                }\n",
            "            },\n",
            "            \"ResponseStatus\": {\n",
            "                \"StatusCode\": \"200\"\n",
            "            }\n",
            "        }\n",
            "    }\n",
            "}\n"
          ],
          "name": "stdout"
        }
      ]
    },
    {
      "cell_type": "code",
      "metadata": {
        "id": "qMm647OuM7Xx",
        "colab_type": "code",
        "colab": {
          "base_uri": "https://localhost:8080/",
          "height": 90
        },
        "outputId": "5292ec58-74c9-45b7-e4fd-db5ab8055be0"
      },
      "source": [
        "  links = [1,2,3,4]\n",
        "\n",
        "  for link in links:\n",
        "    print(link)"
      ],
      "execution_count": 11,
      "outputs": [
        {
          "output_type": "stream",
          "text": [
            "1\n",
            "2\n",
            "3\n",
            "4\n"
          ],
          "name": "stdout"
        }
      ]
    },
    {
      "cell_type": "code",
      "metadata": {
        "id": "gIbQOxAf--mW",
        "colab_type": "code",
        "colab": {}
      },
      "source": [
        ""
      ],
      "execution_count": null,
      "outputs": []
    }
  ]
}