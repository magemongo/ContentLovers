{
  "nbformat": 4,
  "nbformat_minor": 0,
  "metadata": {
    "colab": {
      "name": "Scrapping Publisher",
      "provenance": [],
      "collapsed_sections": [
        "vocGoHrzf7bo"
      ],
      "authorship_tag": "ABX9TyMjQ4GxDG/bCJOMFCdqVek0",
      "include_colab_link": true
    },
    "kernelspec": {
      "name": "python3",
      "display_name": "Python 3"
    }
  },
  "cells": [
    {
      "cell_type": "markdown",
      "metadata": {
        "id": "view-in-github",
        "colab_type": "text"
      },
      "source": [
        "<a href=\"https://colab.research.google.com/github/magemongo/ContentLovers/blob/master/Scrapping_Publisher.ipynb\" target=\"_parent\"><img src=\"https://colab.research.google.com/assets/colab-badge.svg\" alt=\"Open In Colab\"/></a>"
      ]
    },
    {
      "cell_type": "markdown",
      "metadata": {
        "id": "vocGoHrzf7bo",
        "colab_type": "text"
      },
      "source": [
        "# Loop 1 - lista de links do portal\n"
      ]
    },
    {
      "cell_type": "code",
      "metadata": {
        "id": "50BQjX0_Dwq1",
        "colab_type": "code",
        "colab": {
          "base_uri": "https://localhost:8080/",
          "height": 54
        },
        "outputId": "6a9aadf3-b341-4e4c-e190-83407e6d1712"
      },
      "source": [
        "import pandas as pd\n",
        "import numpy as np\n",
        "import matplotlib.pyplot as plt\n",
        "import seaborn as sns\n",
        "%matplotlib inline\n",
        "from urllib.request import urlopen\n",
        "from bs4 import BeautifulSoup"
      ],
      "execution_count": null,
      "outputs": [
        {
          "output_type": "stream",
          "text": [
            "/usr/local/lib/python3.6/dist-packages/statsmodels/tools/_testing.py:19: FutureWarning: pandas.util.testing is deprecated. Use the functions in the public API at pandas.testing instead.\n",
            "  import pandas.util.testing as tm\n"
          ],
          "name": "stderr"
        }
      ]
    },
    {
      "cell_type": "code",
      "metadata": {
        "id": "uMhdiUeVEsm0",
        "colab_type": "code",
        "colab": {}
      },
      "source": [
        "from urllib.request import Request, urlopen\n",
        "\n",
        "req = Request('https://www.guiademidia.com.br/jornais.htm', headers={'User-Agent': 'Mozilla/5.0'})\n",
        "webpage = urlopen(req).read()\n",
        "soup = BeautifulSoup(webpage, 'lxml')\n",
        "type(soup)"
      ],
      "execution_count": null,
      "outputs": []
    },
    {
      "cell_type": "code",
      "metadata": {
        "id": "JrwaxYJLOB2x",
        "colab_type": "code",
        "colab": {}
      },
      "source": [
        "As = soup.find_all('a')"
      ],
      "execution_count": null,
      "outputs": []
    },
    {
      "cell_type": "code",
      "metadata": {
        "id": "svfNDR7hF5Ej",
        "colab_type": "code",
        "colab": {
          "base_uri": "https://localhost:8080/",
          "height": 1000
        },
        "outputId": "c23a97ae-3da5-4e99-ccd7-f42751cfa7ad"
      },
      "source": [
        "As"
      ],
      "execution_count": null,
      "outputs": [
        {
          "output_type": "execute_result",
          "data": {
            "text/plain": [
              "[<a href=\"https://www.guiademidia.com.br\"> <img alt=\"Logo Site Guia de Mídia\" src=\"imagens/logo/v7/logo-guia-de-midia-120x72.png\"/></a>,\n",
              " <a class=\"letra-cor3\" href=\"https://www.guiademidia.com.br\">home</a>,\n",
              " <a class=\"vermelhao\" href=\"https://www.guiademidia.com.br/jornaisdesaopaulo.htm\">Jornais de SP</a>,\n",
              " <a class=\"letra-cor6\" href=\"https://www.guiademidia.com.br/jornaisdoriodejaneiro.htm\">Jornais do Rio</a>,\n",
              " <a href=\"https://www.guiademidia.com.br/jornaisdoacre.htm\" title=\"Jornais Acreanos\">Jornais do Acre</a>,\n",
              " <a href=\"https://www.guiademidia.com.br/acre/jornais-de-rio-branco.htm\" title=\"Jornais de Rio Branco AC\">Rio Branco</a>,\n",
              " <a href=\"https://www.guiademidia.com.br/jornaisdealagoas.htm\" title=\"Jornais Alagoanos\">Jornais de Alagoas</a>,\n",
              " <a href=\"https://www.guiademidia.com.br/alagoas/jornais-de-maceio.htm\" title=\"Jornais de Maceió AL\">Maceió</a>,\n",
              " <a href=\"https://www.guiademidia.com.br/jornaisdoamapa.htm\" title=\"Jornais Amapaenses\">Jornais do Amapá</a>,\n",
              " <a href=\"https://www.guiademidia.com.br/amapa/jornais-de-macapa.htm\" title=\"Jornais de Macapá AP\">Macapá</a>,\n",
              " <a href=\"https://www.guiademidia.com.br/jornaisdoamazonas.htm\" title=\"Jornais Amazonenses\">Jornais do Amazonas</a>,\n",
              " <a href=\"https://www.guiademidia.com.br/amazonas/jornais-de-manaus.htm\" title=\"Jornais de Manaus AM\">Manaus</a>,\n",
              " <a href=\"https://www.guiademidia.com.br/jornaisdabahia.htm\" title=\"Jornais Baiano\">Jornais da Bahia</a>,\n",
              " <a href=\"https://www.guiademidia.com.br/bahia/jornais-de-salvador.htm\" title=\"Jornais de Salvador BA\">Salvador</a>,\n",
              " <a href=\"https://www.guiademidia.com.br/jornaisdoceara.htm\" title=\"Jornais Cearenses\">Jornais do Ceará</a>,\n",
              " <a href=\"https://www.guiademidia.com.br/ceara/jornais-de-fortaleza.htm\" title=\"Jornais de Fortaleza CE\">Fortaleza</a>,\n",
              " <a href=\"https://www.guiademidia.com.br/jornaisdodistritofederal.htm\" title=\"Jornais do Distrito Federal\">Jornais do Distrito Federal</a>,\n",
              " <a href=\"https://www.guiademidia.com.br/distrito-federal/jornais-de-brasilia.htm\" title=\"Jornais de Brasília DF\">Brasília</a>,\n",
              " <a href=\"https://www.guiademidia.com.br/jornaisdoespiritosanto.htm\" title=\"Jornais Capixabas\">Jornais do Espírito Santo</a>,\n",
              " <a href=\"https://www.guiademidia.com.br/espirito-santo/jornais-de-vitoria.htm\" title=\"Jornais de Vitória ES\">Vitória</a>,\n",
              " <a href=\"https://www.guiademidia.com.br/jornaisdegoias.htm\" title=\"Jornais Goianos\">Jornais de Goiás</a>,\n",
              " <a href=\"https://www.guiademidia.com.br/goias/jornais-de-goiania.htm\" title=\"Jornais de Goiânia GO\">Goiânia</a>,\n",
              " <a href=\"https://www.guiademidia.com.br/jornaisdomaranhao.htm\" title=\"Jornais Maranhenses\">Jornais do Maranhão</a>,\n",
              " <a href=\"https://www.guiademidia.com.br/maranhao/jornais-de-sao-luis.htm\">São Luís</a>,\n",
              " <a href=\"https://www.guiademidia.com.br/jornaisdomatogrosso.htm\" title=\"Jornais Matogrossenses\">Jornais do Mato Grosso</a>,\n",
              " <a href=\"https://www.guiademidia.com.br/mato-grosso/jornais-de-cuiaba.htm\" title=\"Jornais de Cuiabá MT\">Cuiabá</a>,\n",
              " <a href=\"https://www.guiademidia.com.br/jornaisdomatogrossodosul.htm\" title=\"Jornais do Mato Grosso do Sul\">Jornais Mato Grosso do Sul</a>,\n",
              " <a href=\"https://www.guiademidia.com.br/mato-grosso-do-sul/jornais-de-campo-grande.htm\" title=\"Jornais de Campo Grande MS\">Campo Grande</a>,\n",
              " <a href=\"https://www.guiademidia.com.br/jornaisdeminasgerais.htm\" title=\"Jornais Mineiros\">Jornais de Minas Gerais</a>,\n",
              " <a href=\"https://www.guiademidia.com.br/minas-gerais/jornais-de-belo-horizonte.htm\" title=\"Jornais de BH\">Belo Horizonte</a>,\n",
              " <a href=\"https://www.guiademidia.com.br/jornaisdopara.htm\" title=\"Jornais Paraenses\">Jornais do Pará</a>,\n",
              " <a href=\"https://www.guiademidia.com.br/para/jornais-de-belem.htm\" title=\"Jornais de Belém do Pará\">Belém</a>,\n",
              " <a href=\"https://www.guiademidia.com.br/jornais/saopaulo/bairros.htm\" title=\"Jornais de Bairros SP\">Bairros SP</a>,\n",
              " <a href=\"https://www.guiademidia.com.br/jornais/saopaulo/capital.htm\" title=\"Jornais da Capital Paulista\">Capital SP</a>,\n",
              " <a href=\"https://www.guiademidia.com.br/jornais/saopaulo/grandesp.htm\" title=\"Jornais da Grande São Paulo\">Grande SP</a>,\n",
              " <a href=\"https://www.guiademidia.com.br/jornais/saopaulo/litoral.htm\" title=\"Jornais do Litoral Paulista\">Litoral SP</a>,\n",
              " <a href=\"https://www.guiademidia.com.br/jornais/saopaulo/interior.htm\" title=\"Jornais do Interior Paulista, Jornais Interior SP\">Interior SP</a>,\n",
              " <a href=\"https://www.guiademidia.com.br/jornaisdaparaiba.htm\" title=\"Jornais Paraibanos\">Jornais da Paraíba</a>,\n",
              " <a href=\"https://www.guiademidia.com.br/paraiba/jornais-de-joao-pessoa.htm\" title=\"Jornais de João Pessoa PB\">João Pessoa</a>,\n",
              " <a href=\"https://www.guiademidia.com.br/jornaisdoparana.htm\" title=\"Jornais Paranaenses\">Jornais do Paraná</a>,\n",
              " <a href=\"https://www.guiademidia.com.br/parana/jornais-de-curitiba.htm\" title=\"Jornais de Curitiba PR\">Curitiba</a>,\n",
              " <a href=\"https://www.guiademidia.com.br/jornaisdepernambuco.htm\" title=\"Jornais Pernambucanos\">Jornais de Pernambuco</a>,\n",
              " <a href=\"https://www.guiademidia.com.br/pernambuco/jornais-de-recife.htm\" title=\"Jornais do Recife PE\">Recife</a>,\n",
              " <a href=\"https://www.guiademidia.com.br/jornaisdopiaui.htm\" title=\"Jornais Piauienses\">Jornais do Piauí</a>,\n",
              " <a href=\"https://www.guiademidia.com.br/piaui/jornais-de-teresina.htm\" title=\"Jornais de Teresina PI\">Teresina</a>,\n",
              " <a href=\"https://www.guiademidia.com.br/jornaisdoriograndedonorte.htm\" title=\"Jornais Potiguar\">Jornais Rio Grande do Norte</a>,\n",
              " <a href=\"https://www.guiademidia.com.br/rio-grande-do-norte/jornais-de-natal.htm\" title=\"Jornais de Natal RN\">Natal</a>,\n",
              " <a href=\"https://www.guiademidia.com.br/jornaisdoriograndedosul.htm\" title=\"Jornais Gaúchos, Jornais RS\">Jornais Rio Grande do Sul</a>,\n",
              " <a href=\"https://www.guiademidia.com.br/rio-grande-do-sul/jornais-de-porto-alegre.htm\" title=\"Jornais de Porto Alegre RS\">Porto Alegre</a>,\n",
              " <a href=\"https://www.guiademidia.com.br/jornaisdoriodejaneiro.htm\" title=\"Jornais Fluminenses, Jornais do RJ\">Jornais do Rio de Janeiro</a>,\n",
              " <a href=\"https://www.guiademidia.com.br/rio-de-janeiro/jornais-do-rio-de-janeiro.htm\" title=\"Jornais Carioca, Jornais da Cidade do Rio\">Cidade do Rio</a>,\n",
              " <a href=\"https://www.guiademidia.com.br/jornaisderondonia.htm\" title=\"Jornais Rondonienses\">Jornais de Rondônia</a>,\n",
              " <a href=\"https://www.guiademidia.com.br/rondonia/jornais-de-porto-velho.htm\" title=\"Jornais de Porto Velho RO\">Porto Velho</a>,\n",
              " <a href=\"https://www.guiademidia.com.br/jornaisderoraima.htm\" title=\"Jornais Roraimenses\">Jornais de Roraima</a>,\n",
              " <a href=\"https://www.guiademidia.com.br/roraima/jornais-de-boa-vista.htm\" title=\"Jornais de Boa Vista RR\">Boa Vista</a>,\n",
              " <a href=\"https://www.guiademidia.com.br/jornaisdesantacatarina.htm\" title=\"Jornais Catarinenses\">Jornais de Santa Catarina</a>,\n",
              " <a href=\"https://www.guiademidia.com.br/santa-catarina/jornais-de-florianopolis.htm\" title=\"Jornais de Florianópolis, Jornais de Floripa SC\">Florianópolis</a>,\n",
              " <a href=\"https://www.guiademidia.com.br/jornaisdesaopaulo.htm\" title=\"Jornais Paulistas, Estado de São Paulo\">Jornais de SP</a>,\n",
              " <a href=\"https://www.guiademidia.com.br/jornais/saopaulo/capital.htm\" title=\"Jornais da cidade de São Paulo\">São Paulo</a>,\n",
              " <a href=\"https://www.guiademidia.com.br/jornaisdosergipe.htm\" title=\"Jornais Sergipanos\">Jornais de Sergipe</a>,\n",
              " <a href=\"https://www.guiademidia.com.br/sergipe/jornais-de-aracaju.htm\" title=\"Jornais de Aracaju SE\">Aracaju</a>,\n",
              " <a href=\"https://www.guiademidia.com.br/jornaisdotocantins.htm\" title=\"Jornais Tocantinenses\">Jornais do Tocantins</a>,\n",
              " <a href=\"https://www.guiademidia.com.br/tocantins/jornais-de-palmas.htm\" title=\"Jornais de Palmas TO\">Palmas</a>,\n",
              " <a href=\"agenciasdenoticias.htm\" title=\"Agências de Notícias do Brasil e Internacionais\">Agências de Notícias</a>,\n",
              " <a href=\"webjornais.htm\" title=\"Webjornais\">Webjornais</a>,\n",
              " <a href=\"jornaisdirigidos.htm\" title=\"Jornais Especializados, Jornais Dirigidos\">Jornais Dirigidos</a>,\n",
              " <a href=\"https://www.guiademidia.com.br/revistasonline.htm\">Revistas Online</a>,\n",
              " <a href=\"https://www.guiademidia.com.br/radiosonline.htm\">Rádios do Brasil</a>,\n",
              " <a href=\"https://www.guiademidia.com.br/cidades/turisticas.htm\">Cidades do Brasil</a>,\n",
              " <a href=\"https://www.guiademidia.com.br/sitesbaladas.htm\">Sites de Baladas</a>,\n",
              " <a href=\"https://www.guiademidia.com.br/tvsonline.htm\">Sites TVs Online</a>,\n",
              " <a class=\"letra-cor3\" href=\"https://www.guiademidia.com.br/jornais/americadosul.htm\">Jornais América do Sul</a>,\n",
              " <a class=\"letra-cor4\" href=\"https://www.guiademidia.com.br/jornais/americacentral.htm\">Jornais América Central</a>,\n",
              " <a class=\"letra-cor5\" href=\"https://www.guiademidia.com.br/jornais/americadonorte.htm\">Jornais América do Norte</a>,\n",
              " <a class=\"letra-cor6\" href=\"https://www.guiademidia.com.br/jornais/africa.htm\">Jornais África</a>,\n",
              " <a class=\"letra-cor7\" href=\"https://www.guiademidia.com.br/jornais/asia.htm\">Jornais Ásia</a>,\n",
              " <a class=\"letra-cor8\" href=\"https://www.guiademidia.com.br/jornais/europa.htm\">Jornais Europa</a>,\n",
              " <a class=\"letra-cor9\" href=\"https://www.guiademidia.com.br/jornais/oceania.htm\">Jornais Ocêania</a>,\n",
              " <a href=\"https://www.guiademidia.com.br/\" title=\"Site Guia de Mídia\"><img alt=\"Logo Guia de Mídia\" class=\"logo-rodape\" src=\"imagens/logo/v7/logo-gdm-v7-80x80.png\"/></a>,\n",
              " <a href=\"https://www.youtube.com/user/guiademidia\" target=\"_blank\"><img alt=\"Canal do Guia de Mídia no Youtube\" src=\"imagens/rede-social/youtube-circle-50x50.png\"/></a>,\n",
              " <a href=\"https://twitter.com/guia_de_midia\" target=\"_blank\"><img alt=\"Twitter do Site Guia de Mídia\" src=\"imagens/rede-social/twitter-circle-50x50.png\"/></a>,\n",
              " <a href=\"https://www.facebook.com/guiadejornais\" target=\"_blank\"><img alt=\"Página do Guia de Mídia no Facebook\" src=\"imagens/rede-social/facebook-circle-50x50.png\"/></a>,\n",
              " <a href=\"https://www.guiademidia.com.br/jornais.htm\">Guia de Jornais Brasil</a>,\n",
              " <a href=\"quemsomos/contatos.htm\">Contato</a>,\n",
              " <a href=\"publicidade/publicidade.htm\" target=\"_blank\">Publicidade</a>,\n",
              " <a class=\"vermelhao\" href=\"cadastro/sites.htm\" target=\"_blank\">Cadastre seu Site</a>,\n",
              " <a class=\"verde\" href=\"politica-de-privacidade.htm\" target=\"_blank\">Política de Privacidade</a>,\n",
              " <a href=\"/cdn-cgi/l/email-protection#9cfbe9f5fdf8f9f1f5f8f5fdfeeedcfbf1fdf5f0b2fff3f1a3efe9fef6f9ffe8a1d9ceced3bccc5f1ddbd5d2dd\" title=\"Comunicar erro na página\"><span class=\"__cf_email__\" data-cfemail=\"0562706c646160686c616c646777456268646c692b666a68\">[email protected]</span></a>,\n",
              " <a href=\"https://www.guiademidia.com.br\">www.guiademidia.com.br</a>]"
            ]
          },
          "metadata": {
            "tags": []
          },
          "execution_count": 6
        }
      ]
    },
    {
      "cell_type": "code",
      "metadata": {
        "id": "-YG0lLZrHDvu",
        "colab_type": "code",
        "colab": {}
      },
      "source": [
        "first = soup.find(text=\"Jornais do Rio\")"
      ],
      "execution_count": null,
      "outputs": []
    },
    {
      "cell_type": "code",
      "metadata": {
        "id": "Viq0P3JsHn6W",
        "colab_type": "code",
        "colab": {}
      },
      "source": [
        "jb_links = first.find_all_next('a')"
      ],
      "execution_count": null,
      "outputs": []
    },
    {
      "cell_type": "code",
      "metadata": {
        "id": "XpJrl-xAITmN",
        "colab_type": "code",
        "colab": {}
      },
      "source": [
        "links_jb = []\n",
        "for a in jb_links:\n",
        "  if a.get('href')!= 'agenciasdenoticias.htm':\n",
        "    links_jb.append(a.get('href'))\n",
        "  else:\n",
        "    break"
      ],
      "execution_count": null,
      "outputs": []
    },
    {
      "cell_type": "code",
      "metadata": {
        "id": "Q1MtNITWJ7ej",
        "colab_type": "code",
        "colab": {}
      },
      "source": [
        "links_jb_estado = []\n",
        "links_jb_capital = []\n",
        "links_sp_capital = []\n",
        "\n",
        "for link in links_jb:\n",
        "  if link.count('/') == 3:\n",
        "    links_jb_estado.append(link)\n",
        "  elif link.count('/') == 4:\n",
        "    links_jb_capital.append(link)\n",
        "  else:\n",
        "    links_sp_capital.append(link)"
      ],
      "execution_count": null,
      "outputs": []
    },
    {
      "cell_type": "markdown",
      "metadata": {
        "id": "y5lOxqrSgF4l",
        "colab_type": "text"
      },
      "source": [
        "# Scrapping Jornais Brasileiros por Estado\n",
        "lista = links_jb_estado"
      ]
    },
    {
      "cell_type": "code",
      "metadata": {
        "id": "KKS_2J8tdhnX",
        "colab_type": "code",
        "colab": {
          "base_uri": "https://localhost:8080/",
          "height": 508
        },
        "outputId": "bac20cbc-59fd-48c1-f980-10aa7c3bcf06"
      },
      "source": [
        "import re\n",
        "\n",
        "c = 0\n",
        "dados = {}\n",
        "\n",
        "dados['nome'] = []\n",
        "dados['link'] = []\n",
        "\n",
        "for link in links_jb_estado:\n",
        "  req = Request(link, headers={'User-Agent': 'Mozilla/5.0'})\n",
        "  c += 1\n",
        "  print(req, c)\n",
        "\n",
        "  webpage = urlopen(req).read()\n",
        "  soup = BeautifulSoup(webpage, 'lxml')\n",
        "  rows = soup.find_all('tr')\n",
        "\n",
        "  for row in rows:\n",
        "      cells = row.find_all('td')\n",
        "      links = row.find_all('a')\n",
        "      str_links = str(links)\n",
        "      str_cells = str(cells)\n",
        "      clean = re.compile('<.*?>')\n",
        "      clean_l = re.compile(\"((http|https)\\:\\/\\/)?[a-zA-Z0-9\\.\\/\\?\\:@\\-_=#]+\\.([a-zA-Z]){2,6}([a-zA-Z0-9\\.\\&\\/\\?\\:@\\-_=#])*\")\n",
        "      clean3 = (re.search(clean_l, str_links))\n",
        "      clean2 = (re.sub(clean, '',str_cells))\n",
        "      dados['nome'].append(clean2.rstrip('[]'))\n",
        "      pre_link = str(clean3).split('match=')\n",
        "      if len(pre_link) > 1:\n",
        "        dados['link'].append(pre_link[1].rstrip('>'))\n",
        "      else:\n",
        "        dados['link'].append(pre_link[0].rstrip('None'))\n",
        "  type(clean2)\n"
      ],
      "execution_count": null,
      "outputs": [
        {
          "output_type": "stream",
          "text": [
            "<urllib.request.Request object at 0x7fe29ba57048> 1\n",
            "<urllib.request.Request object at 0x7fe29a4b4be0> 2\n",
            "<urllib.request.Request object at 0x7fe29ba57128> 3\n",
            "<urllib.request.Request object at 0x7fe29a7b4c50> 4\n",
            "<urllib.request.Request object at 0x7fe29b767d30> 5\n",
            "<urllib.request.Request object at 0x7fe29b021e80> 6\n",
            "<urllib.request.Request object at 0x7fe29aca2160> 7\n",
            "<urllib.request.Request object at 0x7fe29aabbf98> 8\n",
            "<urllib.request.Request object at 0x7fe29a932588> 9\n",
            "<urllib.request.Request object at 0x7fe29b9a6f28> 10\n",
            "<urllib.request.Request object at 0x7fe29aabbeb8> 11\n",
            "<urllib.request.Request object at 0x7fe29aca2240> 12\n",
            "<urllib.request.Request object at 0x7fe29a345080> 13\n",
            "<urllib.request.Request object at 0x7fe29a33c668> 14\n",
            "<urllib.request.Request object at 0x7fe29a932e10> 15\n",
            "<urllib.request.Request object at 0x7fe29b302b00> 16\n",
            "<urllib.request.Request object at 0x7fe29b302ef0> 17\n",
            "<urllib.request.Request object at 0x7fe29b08e940> 18\n",
            "<urllib.request.Request object at 0x7fe29b08ea20> 19\n",
            "<urllib.request.Request object at 0x7fe29aaab080> 20\n",
            "<urllib.request.Request object at 0x7fe29b86dba8> 21\n",
            "<urllib.request.Request object at 0x7fe29a932e10> 22\n",
            "<urllib.request.Request object at 0x7fe29af98470> 23\n",
            "<urllib.request.Request object at 0x7fe29b58a940> 24\n",
            "<urllib.request.Request object at 0x7fe29a7eeac8> 25\n",
            "<urllib.request.Request object at 0x7fe29a7ee9b0> 26\n",
            "<urllib.request.Request object at 0x7fe29b6dbcf8> 27\n"
          ],
          "name": "stdout"
        }
      ]
    },
    {
      "cell_type": "code",
      "metadata": {
        "id": "s1inUqQUlhbA",
        "colab_type": "code",
        "colab": {
          "base_uri": "https://localhost:8080/",
          "height": 198
        },
        "outputId": "d7a38778-f6d5-48d2-ec3c-07338b9757b9"
      },
      "source": [
        "df = pd.DataFrame(dados)\n",
        "df.tail()"
      ],
      "execution_count": null,
      "outputs": [
        {
          "output_type": "execute_result",
          "data": {
            "text/html": [
              "<div>\n",
              "<style scoped>\n",
              "    .dataframe tbody tr th:only-of-type {\n",
              "        vertical-align: middle;\n",
              "    }\n",
              "\n",
              "    .dataframe tbody tr th {\n",
              "        vertical-align: top;\n",
              "    }\n",
              "\n",
              "    .dataframe thead th {\n",
              "        text-align: right;\n",
              "    }\n",
              "</style>\n",
              "<table border=\"1\" class=\"dataframe\">\n",
              "  <thead>\n",
              "    <tr style=\"text-align: right;\">\n",
              "      <th></th>\n",
              "      <th>nome</th>\n",
              "      <th>link</th>\n",
              "    </tr>\n",
              "  </thead>\n",
              "  <tbody>\n",
              "    <tr>\n",
              "      <th>3758</th>\n",
              "      <td>[Blog Jaciara Barros | Coluna Social, Palmas</td>\n",
              "      <td>'http://www.jaciarabarros.com.br/'</td>\n",
              "    </tr>\n",
              "    <tr>\n",
              "      <th>3759</th>\n",
              "      <td>[Blog Palmas Aqui | Antônio Guimarães, Palmas</td>\n",
              "      <td>'https://palmasaqui.wordpress.com/'</td>\n",
              "    </tr>\n",
              "    <tr>\n",
              "      <th>3760</th>\n",
              "      <td>[Blog Cidade Interativa Almas TO | Rinaldo M. ...</td>\n",
              "      <td>'http://cialmas.blogspot.com.br/'</td>\n",
              "    </tr>\n",
              "    <tr>\n",
              "      <th>3761</th>\n",
              "      <td>[Blog do Luiz Martins, Guaraí</td>\n",
              "      <td>'http://www.luizmartins.net/'</td>\n",
              "    </tr>\n",
              "    <tr>\n",
              "      <th>3762</th>\n",
              "      <td>[ , + Blogs</td>\n",
              "      <td>'https://www.guiademidia.com.br/blogs/jornalis...</td>\n",
              "    </tr>\n",
              "  </tbody>\n",
              "</table>\n",
              "</div>"
            ],
            "text/plain": [
              "                                                   nome                                               link\n",
              "3758       [Blog Jaciara Barros | Coluna Social, Palmas                 'http://www.jaciarabarros.com.br/'\n",
              "3759      [Blog Palmas Aqui | Antônio Guimarães, Palmas                'https://palmasaqui.wordpress.com/'\n",
              "3760  [Blog Cidade Interativa Almas TO | Rinaldo M. ...                  'http://cialmas.blogspot.com.br/'\n",
              "3761                      [Blog do Luiz Martins, Guaraí                      'http://www.luizmartins.net/'\n",
              "3762                                        [ , + Blogs  'https://www.guiademidia.com.br/blogs/jornalis..."
            ]
          },
          "metadata": {
            "tags": []
          },
          "execution_count": 197
        }
      ]
    },
    {
      "cell_type": "code",
      "metadata": {
        "id": "OKkoB7CfntGs",
        "colab_type": "code",
        "colab": {}
      },
      "source": [
        "import numpy as np\n",
        "\n",
        "df.replace('', np.nan, inplace=True)\n",
        "df.dropna(axis=0, inplace=True)"
      ],
      "execution_count": null,
      "outputs": []
    },
    {
      "cell_type": "code",
      "metadata": {
        "id": "HV_cC4iyv3jY",
        "colab_type": "code",
        "colab": {
          "base_uri": "https://localhost:8080/",
          "height": 407
        },
        "outputId": "c45d894a-ab0e-4f71-f1ed-8b47097a9844"
      },
      "source": [
        "df"
      ],
      "execution_count": null,
      "outputs": [
        {
          "output_type": "execute_result",
          "data": {
            "text/html": [
              "<div>\n",
              "<style scoped>\n",
              "    .dataframe tbody tr th:only-of-type {\n",
              "        vertical-align: middle;\n",
              "    }\n",
              "\n",
              "    .dataframe tbody tr th {\n",
              "        vertical-align: top;\n",
              "    }\n",
              "\n",
              "    .dataframe thead th {\n",
              "        text-align: right;\n",
              "    }\n",
              "</style>\n",
              "<table border=\"1\" class=\"dataframe\">\n",
              "  <thead>\n",
              "    <tr style=\"text-align: right;\">\n",
              "      <th></th>\n",
              "      <th>nome</th>\n",
              "      <th>link</th>\n",
              "    </tr>\n",
              "  </thead>\n",
              "  <tbody>\n",
              "    <tr>\n",
              "      <th>2</th>\n",
              "      <td>[A Gazeta do Acre, Rio Branco</td>\n",
              "      <td>'http://www.agazetadoacre.com'</td>\n",
              "    </tr>\n",
              "    <tr>\n",
              "      <th>3</th>\n",
              "      <td>[Jornal Página 20, Rio Branco</td>\n",
              "      <td>'http://www.pagina20.net'</td>\n",
              "    </tr>\n",
              "    <tr>\n",
              "      <th>4</th>\n",
              "      <td>[O Rio Branco, Rio Branco</td>\n",
              "      <td>'http://www.oriobranco.net/'</td>\n",
              "    </tr>\n",
              "    <tr>\n",
              "      <th>5</th>\n",
              "      <td>[A Tribuna do Acre, Rio Branco</td>\n",
              "      <td>'http://www.jornalatribuna.com.br/'</td>\n",
              "    </tr>\n",
              "    <tr>\n",
              "      <th>6</th>\n",
              "      <td>[Jornal Opinião, Rio Branco</td>\n",
              "      <td>'http://www.jornalopiniao.net/'</td>\n",
              "    </tr>\n",
              "    <tr>\n",
              "      <th>...</th>\n",
              "      <td>...</td>\n",
              "      <td>...</td>\n",
              "    </tr>\n",
              "    <tr>\n",
              "      <th>3758</th>\n",
              "      <td>[Blog Jaciara Barros | Coluna Social, Palmas</td>\n",
              "      <td>'http://www.jaciarabarros.com.br/'</td>\n",
              "    </tr>\n",
              "    <tr>\n",
              "      <th>3759</th>\n",
              "      <td>[Blog Palmas Aqui | Antônio Guimarães, Palmas</td>\n",
              "      <td>'https://palmasaqui.wordpress.com/'</td>\n",
              "    </tr>\n",
              "    <tr>\n",
              "      <th>3760</th>\n",
              "      <td>[Blog Cidade Interativa Almas TO | Rinaldo M. ...</td>\n",
              "      <td>'http://cialmas.blogspot.com.br/'</td>\n",
              "    </tr>\n",
              "    <tr>\n",
              "      <th>3761</th>\n",
              "      <td>[Blog do Luiz Martins, Guaraí</td>\n",
              "      <td>'http://www.luizmartins.net/'</td>\n",
              "    </tr>\n",
              "    <tr>\n",
              "      <th>3762</th>\n",
              "      <td>[ , + Blogs</td>\n",
              "      <td>'https://www.guiademidia.com.br/blogs/jornalis...</td>\n",
              "    </tr>\n",
              "  </tbody>\n",
              "</table>\n",
              "<p>3587 rows × 2 columns</p>\n",
              "</div>"
            ],
            "text/plain": [
              "                                                   nome                                               link\n",
              "2                         [A Gazeta do Acre, Rio Branco                     'http://www.agazetadoacre.com'\n",
              "3                         [Jornal Página 20, Rio Branco                          'http://www.pagina20.net'\n",
              "4                             [O Rio Branco, Rio Branco                       'http://www.oriobranco.net/'\n",
              "5                        [A Tribuna do Acre, Rio Branco                'http://www.jornalatribuna.com.br/'\n",
              "6                           [Jornal Opinião, Rio Branco                    'http://www.jornalopiniao.net/'\n",
              "...                                                 ...                                                ...\n",
              "3758       [Blog Jaciara Barros | Coluna Social, Palmas                 'http://www.jaciarabarros.com.br/'\n",
              "3759      [Blog Palmas Aqui | Antônio Guimarães, Palmas                'https://palmasaqui.wordpress.com/'\n",
              "3760  [Blog Cidade Interativa Almas TO | Rinaldo M. ...                  'http://cialmas.blogspot.com.br/'\n",
              "3761                      [Blog do Luiz Martins, Guaraí                      'http://www.luizmartins.net/'\n",
              "3762                                        [ , + Blogs  'https://www.guiademidia.com.br/blogs/jornalis...\n",
              "\n",
              "[3587 rows x 2 columns]"
            ]
          },
          "metadata": {
            "tags": []
          },
          "execution_count": 201
        }
      ]
    },
    {
      "cell_type": "code",
      "metadata": {
        "id": "qjBNnyPzIsLM",
        "colab_type": "code",
        "colab": {}
      },
      "source": [
        "df.to_excel('/content/publishers_estados.xls')"
      ],
      "execution_count": null,
      "outputs": []
    },
    {
      "cell_type": "markdown",
      "metadata": {
        "id": "2B4rpAOpP7tx",
        "colab_type": "text"
      },
      "source": [
        "# Scrapping Jornais Brasileiros por Capital\n",
        "\n",
        "lista = links_jb_capital"
      ]
    },
    {
      "cell_type": "code",
      "metadata": {
        "id": "RKhvS5vKQNI7",
        "colab_type": "code",
        "colab": {}
      },
      "source": [
        "for link in links_jb_capital:\n",
        "  req = Request(link, headers={'User-Agent': 'Mozilla/5.0'})\n",
        "  c += 1\n",
        "  print(req, c)\n",
        "\n",
        "  webpage = urlopen(req).read()\n",
        "  soup = BeautifulSoup(webpage, 'lxml')\n",
        "  rows = soup.find_all('tr')"
      ],
      "execution_count": null,
      "outputs": []
    },
    {
      "cell_type": "code",
      "metadata": {
        "id": "t3xqGmqJQc6B",
        "colab_type": "code",
        "colab": {
          "base_uri": "https://localhost:8080/",
          "height": 35
        },
        "outputId": "2c3b9eff-5cb4-44b5-8cc2-10f326cf5be9"
      },
      "source": [
        "req = Request('https://www.guiademidia.com.br/acre/jornais-de-rio-branco.htm', headers={'User-Agent': 'Mozilla/5.0'})\n",
        "webpage = urlopen(req).read()\n",
        "soup = BeautifulSoup(webpage, 'lxml')\n",
        "type(soup)"
      ],
      "execution_count": null,
      "outputs": [
        {
          "output_type": "execute_result",
          "data": {
            "text/plain": [
              "bs4.BeautifulSoup"
            ]
          },
          "metadata": {
            "tags": []
          },
          "execution_count": 202
        }
      ]
    },
    {
      "cell_type": "code",
      "metadata": {
        "id": "teA1mmqWQqS8",
        "colab_type": "code",
        "colab": {}
      },
      "source": [
        "listas = soup.find_all(\"div\", class_=\"lista\")\n"
      ],
      "execution_count": null,
      "outputs": []
    },
    {
      "cell_type": "code",
      "metadata": {
        "id": "F10ipHJzTK1Y",
        "colab_type": "code",
        "colab": {
          "base_uri": "https://localhost:8080/",
          "height": 54
        },
        "outputId": "cf17c579-5597-4e05-d462-e957fbc45a75"
      },
      "source": [
        "dados2 = {}\n",
        "dados2['nomes'] = []\n",
        "pre_nomes = []\n",
        "\n",
        "for lista in listas:\n",
        "  cells = lista.find_all('a')\n",
        "  str_cells = str(cells)\n",
        "  clean = re.compile('<.*?>')\n",
        "  clean2 = (re.sub(clean, '',str_cells))\n",
        "  pre_nomes.append(clean2)\n",
        "\n",
        "dados2['nomes'] = pre_nomes[0] + pre_nomes[1]"
      ],
      "execution_count": null,
      "outputs": [
        {
          "output_type": "stream",
          "text": [
            "<_sre.SRE_Match object; span=(24, 75), match='https://www.guiademidia.com.br/blogs/jornalismo.h>\n",
            "<_sre.SRE_Match object; span=(24, 75), match='https://www.guiademidia.com.br/blogs/jornalismo.h>\n"
          ],
          "name": "stdout"
        }
      ]
    },
    {
      "cell_type": "code",
      "metadata": {
        "id": "WDX75UrpT7o8",
        "colab_type": "code",
        "colab": {
          "base_uri": "https://localhost:8080/",
          "height": 54
        },
        "outputId": "dc6fbe18-df90-4ad2-a6e1-d52d4a928d6d"
      },
      "source": [
        "dados2 = {}\n",
        "dados2['nomes'] = []\n",
        "pre_nomes = []\n",
        "\n",
        "for lista in listas:\n",
        "  cells = lista.find_all('a')\n",
        "  str_cells = str(cells)\n",
        "  str_links = str(cells)\n",
        "  clean_l = re.compile(\"((http|https)\\:\\/\\/)?[a-zA-Z0-9\\.\\/\\?\\:@\\-_=#]+\\.([a-zA-Z]){2,6}([a-zA-Z0-9\\.\\&\\/\\?\\:@\\-_=#])*\")\n",
        "  clean3 = (re.search(clean_l, str_links))\n",
        "  clean = re.compile('<.*?>')\n",
        "  clean2 = (re.sub(clean, '',str_cells))\n",
        "  pre_nomes.append(clean2)\n",
        "  print(clean3)\n",
        "\n",
        "dados2['nomes'] = pre_nomes[0] + pre_nomes[1]"
      ],
      "execution_count": null,
      "outputs": [
        {
          "output_type": "stream",
          "text": [
            "<_sre.SRE_Match object; span=(10, 36), match='https://jornalopiniao.net/'>\n",
            "<_sre.SRE_Match object; span=(10, 47), match='https://ambienteacreano.blogspot.com/'>\n"
          ],
          "name": "stdout"
        }
      ]
    },
    {
      "cell_type": "code",
      "metadata": {
        "id": "61ptEl2VR_k2",
        "colab_type": "code",
        "colab": {
          "base_uri": "https://localhost:8080/",
          "height": 472
        },
        "outputId": "3b687fcc-a511-4043-d8bf-5e53f39c8fed"
      },
      "source": [
        "listas[0].find_all('a', href=True)\n"
      ],
      "execution_count": null,
      "outputs": [
        {
          "output_type": "execute_result",
          "data": {
            "text/plain": [
              "[<a href=\"https://jornalopiniao.net/\" target=\"_blank\">Jornal Opinião</a>,\n",
              " <a href=\"http://www.oriobranco.net/\" target=\"_blank\">Jornal O Rio Branco</a>,\n",
              " <a href=\"https://agazetadoacre.com/\" target=\"_blank\">A Gazeta do Acre</a>,\n",
              " <a href=\"https://pagina20.net/\" target=\"_blank\">Jornal Página 20</a>,\n",
              " <a href=\"http://www.jornalatribuna.com.br/\" target=\"_blank\">Jornal A tribuna do Acre</a>,\n",
              " <a href=\"https://acmanchete.com/\" target=\"_blank\">AC Manchete</a>,\n",
              " <a href=\"https://acreaovivo.com.br/\" target=\"_blank\">Acre Ao Vivo</a>,\n",
              " <a href=\"https://contilnetnoticias.com.br/\" target=\"_blank\">Contilnet Notícias</a>,\n",
              " <a href=\"https://ecosdanoticia.net.br/\" target=\"_blank\">Ecos da Notícia</a>,\n",
              " <a href=\"https://www.ac24horas.com/\" target=\"_blank\">AC 24 Horas</a>,\n",
              " <a href=\"https://www.acjornal.com/\" target=\"_blank\">AC Jornal</a>,\n",
              " <a href=\"http://acrealerta.com\" target=\"_blank\">Acre Alerta</a>,\n",
              " <a href=\"https://acreemrevista.com.br/\" target=\"_blank\">Acre em Revista</a>,\n",
              " <a href=\"https://www.alertaacre.com.br/\" target=\"_blank\">Alerta Acre</a>,\n",
              " <a href=\"https://diariodoacre.com.br/\" target=\"_blank\">Diário do Acre</a>,\n",
              " <a href=\"http://www.ecoacre.net/\" target=\"_blank\">Ecoacre.Net</a>,\n",
              " <a class=\"cinza\" href=\"https://www.youtube.com/channel/UCdeVaMNeoFNdIfudostGFaQ\" target=\"_blank\">Canal YTB</a>,\n",
              " <a href=\"https://folhadoacre.com.br/\" target=\"_blank\">Folha do Acre</a>,\n",
              " <a href=\"https://www.giroacreano.com.br/\" target=\"_blank\">Giro Acreano</a>,\n",
              " <a href=\"https://www.nativus24horas.com.br/\" target=\"_blank\">Nativus 24 Horas</a>,\n",
              " <a href=\"https://www.vejadetudo.com.br/\" target=\"_blank\">Veja de Tudo</a>,\n",
              " <a href=\"https://www.noticiasdahora.com.br/\" target=\"_blank\">Notícias da Hora</a>,\n",
              " <a href=\"https://g1.globo.com/ac/acre/cidade/rio-branco/\" target=\"_blank\">Notícias de Rio Branco</a>,\n",
              " <a class=\"cinza\" href=\"https://www.riobranco.ac.leg.br/\" target=\"_blank\" title=\"Câmara de Vereadores Municipal\">Câmara Municipal de Rio Branco AC</a>,\n",
              " <a class=\"vinho\" href=\"http://www.riobranco.ac.gov.br/\" target=\"_blank\" title=\"Prefeitura da Cidade\">Prefeitura de Rio Branco AC</a>]"
            ]
          },
          "metadata": {
            "tags": []
          },
          "execution_count": 231
        }
      ]
    },
    {
      "cell_type": "code",
      "metadata": {
        "id": "Lif9rkBYgock",
        "colab_type": "code",
        "colab": {}
      },
      "source": [
        ""
      ],
      "execution_count": null,
      "outputs": []
    }
  ]
}